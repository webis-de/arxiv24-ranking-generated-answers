{
 "cells": [
  {
   "cell_type": "code",
   "id": "initial_id",
   "metadata": {
    "collapsed": true,
    "ExecuteTime": {
     "end_time": "2024-04-29T08:44:54.250090Z",
     "start_time": "2024-04-29T08:44:54.242160Z"
    }
   },
   "source": [
    "import json\n",
    "from scipy.stats import kendalltau, spearmanr\n",
    "import rbo\n",
    "import pandas as pd\n",
    "import glob\n",
    "import random\n",
    "import os\n",
    "import sys\n",
    "import seaborn as sns\n",
    "import matplotlib.pyplot as plt\n",
    "from matplotlib.sankey import Sankey\n",
    "\n",
    "# set column width to be able to see full text\n",
    "pd.set_option('display.max_colwidth', 100)\n",
    "\n",
    "base_path = f'../top_k_rankings'"
   ],
   "outputs": [],
   "execution_count": 4
  },
  {
   "cell_type": "code",
   "id": "6f47850cfab1d376",
   "metadata": {
    "ExecuteTime": {
     "end_time": "2024-04-29T08:44:54.280445Z",
     "start_time": "2024-04-29T08:44:54.271212Z"
    }
   },
   "source": [
    "with open(f'{base_path}/project-151-at-2024-02-07-14-54-bdd3deda.json', 'r') as f:\n",
    "    annotations = json.load(f)\n",
    "annotations[0][\"annotations\"][0][\"result\"][0][\"value\"][\"ranker\"][\"rank\"]"
   ],
   "outputs": [
    {
     "data": {
      "text/plain": [
       "['chatgpt_22_multimedqa_6',\n",
       " 'meta-llama_Llama-2-13b-chat-hf_22_multimedqa_10',\n",
       " 'gpt2-xl_22_multimedqa_10',\n",
       " '01f617ac-9919-44fe-8fc8-2db9ff72b5e7',\n",
       " 'gpt2_22_multimedqa_9']"
      ]
     },
     "execution_count": 5,
     "metadata": {},
     "output_type": "execute_result"
    }
   ],
   "execution_count": 5
  },
  {
   "cell_type": "code",
   "id": "74cefe694286db7e",
   "metadata": {
    "ExecuteTime": {
     "end_time": "2024-04-29T08:44:54.305922Z",
     "start_time": "2024-04-29T08:44:54.301838Z"
    }
   },
   "source": [
    "len(annotations)"
   ],
   "outputs": [
    {
     "data": {
      "text/plain": [
       "20"
      ]
     },
     "execution_count": 6,
     "metadata": {},
     "output_type": "execute_result"
    }
   ],
   "execution_count": 6
  },
  {
   "cell_type": "code",
   "id": "7401d8a709a01e60",
   "metadata": {
    "ExecuteTime": {
     "end_time": "2024-04-29T08:44:54.356485Z",
     "start_time": "2024-04-29T08:44:54.352799Z"
    }
   },
   "source": [
    "rankings = {}\n",
    "for annotation in annotations:\n",
    "    annotated_rankings = list(zip(range(len(annotation[\"annotations\"][0][\"result\"][0])),\n",
    "                                  annotation[\"annotations\"][0][\"result\"][0][\"value\"][\"ranker\"][\"rank\"]))\n",
    "    system_rankings = [(x[\"score\"], x[\"id\"]) for x in annotation[\"data\"][\"items\"]]\n",
    "    rankings[annotation[\"id\"]] = {\"annotated_rankings\": annotated_rankings, \"system_rankings\": system_rankings}"
   ],
   "outputs": [],
   "execution_count": 7
  },
  {
   "cell_type": "code",
   "id": "c7fb9bd1161dc4c2",
   "metadata": {
    "ExecuteTime": {
     "end_time": "2024-04-29T08:44:54.396353Z",
     "start_time": "2024-04-29T08:44:54.362558Z"
    }
   },
   "source": [
    "d = {}\n",
    "for k, v in rankings.items():\n",
    "    a = [x[1] for x in v[\"annotated_rankings\"]]\n",
    "    s = [x[1] for x in sorted(v[\"system_rankings\"], key=lambda x: x[0], reverse=True)]\n",
    "    for i in range(len(a)):\n",
    "        print(a[i][:8], s[i][:8])\n",
    "    d[k] = {\"rbo\": rbo.RankingSimilarity(a, s).rbo(),\n",
    "            \"kendall\": kendalltau(a, s).correlation,\n",
    "            \"spearman\": spearmanr(a, s).correlation, }\n",
    "    print(k, rbo.RankingSimilarity(a, s).rbo(), kendalltau(a, s).correlation, spearmanr(a, s).correlation)"
   ],
   "outputs": [
    {
     "name": "stdout",
     "output_type": "stream",
     "text": [
      "chatgpt_ meta-lla\n",
      "meta-lla chatgpt_\n",
      "gpt2-xl_ 01f617ac\n",
      "01f617ac gpt2-xl_\n",
      "gpt2_22_ gpt2_22_\n",
      "122997 0.7333333333333333 -0.19999999999999998 -0.3\n",
      "chatgpt_ chatgpt_\n",
      "meta-lla meta-lla\n",
      "gpt2-xl_ gpt2-xl_\n",
      "74c382e8 74c382e8\n",
      "gpt2_35_ gpt2_35_\n",
      "122998 1.0 0.9999999999999999 0.9999999999999999\n",
      "chatgpt_ chatgpt_\n",
      "meta-lla meta-lla\n",
      "gpt2-xl_ gpt2-xl_\n",
      "gpt2_1_m e6ab23e9\n",
      "e6ab23e9 gpt2_1_m\n",
      "122999 0.95 0.39999999999999997 0.6\n",
      "chatgpt_ chatgpt_\n",
      "meta-lla meta-lla\n",
      "721cb1ec gpt2-xl_\n",
      "gpt2-xl_ 721cb1ec\n",
      "gpt2_68_ gpt2_68_\n",
      "123000 0.9333333333333332 0.39999999999999997 0.6\n",
      "chatgpt_ chatgpt_\n",
      "meta-lla meta-lla\n",
      "b3669cc3 b3669cc3\n",
      "gpt2-xl_ gpt2-xl_\n",
      "gpt2_54_ gpt2_54_\n",
      "123001 1.0 0.9999999999999999 0.9999999999999999\n",
      "meta-lla chatgpt_\n",
      "chatgpt_ meta-lla\n",
      "gpt2-xl_ e659c78c\n",
      "e659c78c gpt2-xl_\n",
      "gpt2_97_ gpt2_97_\n",
      "123002 0.7333333333333333 -0.6 -0.7\n",
      "chatgpt_ chatgpt_\n",
      "meta-lla meta-lla\n",
      "1715aa9e gpt2-xl_\n",
      "gpt2-xl_ 1715aa9e\n",
      "gpt2_117 gpt2_117\n",
      "123003 0.9333333333333332 0.39999999999999997 0.6\n",
      "chatgpt_ chatgpt_\n",
      "6692650c meta-lla\n",
      "gpt2-xl_ gpt2-xl_\n",
      "meta-lla 6692650c\n",
      "gpt2_83_ gpt2_83_\n",
      "123004 0.8333333333333333 -0.39999999999999997 -0.6\n",
      "chatgpt_ meta-lla\n",
      "meta-lla chatgpt_\n",
      "gpt2-xl_ d03d9000\n",
      "d03d9000 gpt2-xl_\n",
      "gpt2_116 gpt2_116\n",
      "123005 0.7333333333333333 -0.6 -0.7\n",
      "chatgpt_ chatgpt_\n",
      "meta-lla meta-lla\n",
      "gpt2-xl_ ac6af937\n",
      "ac6af937 gpt2-xl_\n",
      "gpt2_102 gpt2_102\n",
      "123006 0.9333333333333332 0.39999999999999997 0.6\n",
      "chatgpt_ meta-lla\n",
      "meta-lla chatgpt_\n",
      "gpt2-xl_ 69200345\n",
      "gpt2_96_ gpt2-xl_\n",
      "69200345 gpt2_96_\n",
      "123007 0.6833333333333333 -0.39999999999999997 -0.6\n",
      "chatgpt_ chatgpt_\n",
      "meta-lla gpt2-xl_\n",
      "91a98d43 meta-lla\n",
      "gpt2-xl_ 91a98d43\n",
      "gpt2_55_ gpt2_55_\n",
      "123008 0.8333333333333333 -0.19999999999999998 -0.19999999999999998\n",
      "chatgpt_ meta-lla\n",
      "meta-lla chatgpt_\n",
      "acd5f7da gpt2-xl_\n",
      "gpt2_57_ gpt2_57_\n",
      "gpt2-xl_ acd5f7da\n",
      "123009 0.6833333333333333 -0.19999999999999998 -0.3\n",
      "chatgpt_ meta-lla\n",
      "3fe4c158 gpt2-xl_\n",
      "gpt2-xl_ 3fe4c158\n",
      "meta-lla chatgpt_\n",
      "gpt2_114 gpt2_114\n",
      "123010 0.5333333333333333 -0.19999999999999998 -0.3\n",
      "chatgpt_ meta-lla\n",
      "meta-lla chatgpt_\n",
      "b3669cc3 gpt2-xl_\n",
      "gpt2_94_ b3669cc3\n",
      "gpt2-xl_ gpt2_94_\n",
      "123011 0.6833333333333333 -0.39999999999999997 -0.6\n",
      "chatgpt_ chatgpt_\n",
      "meta-lla meta-lla\n",
      "6004886d gpt2-xl_\n",
      "gpt2-xl_ gpt2_101\n",
      "gpt2_101 6004886d\n",
      "123012 0.8833333333333332 0.19999999999999998 0.3\n",
      "chatgpt_ chatgpt_\n",
      "meta-lla meta-lla\n",
      "8a8821a6 gpt2-xl_\n",
      "gpt2-xl_ 8a8821a6\n",
      "gpt2_95_ gpt2_95_\n",
      "123013 0.9333333333333332 0.39999999999999997 0.6\n",
      "chatgpt_ chatgpt_\n",
      "meta-lla meta-lla\n",
      "0378a4b6 gpt2-xl_\n",
      "gpt2-xl_ 0378a4b6\n",
      "gpt2_81_ gpt2_81_\n",
      "123014 0.9333333333333332 0.39999999999999997 0.6\n",
      "chatgpt_ chatgpt_\n",
      "meta-lla meta-lla\n",
      "gpt2-xl_ gpt2-xl_\n",
      "0c18fe0c 0c18fe0c\n",
      "gpt2_52_ gpt2_52_\n",
      "123015 1.0 0.9999999999999999 0.9999999999999999\n",
      "chatgpt_ meta-lla\n",
      "meta-lla chatgpt_\n",
      "890ee79a 890ee79a\n",
      "gpt2-xl_ gpt2-xl_\n",
      "gpt2_85_ gpt2_85_\n",
      "123016 0.8 0.0 0.09999999999999999\n"
     ]
    }
   ],
   "execution_count": 8
  },
  {
   "cell_type": "code",
   "id": "3f22e65938d80621",
   "metadata": {
    "ExecuteTime": {
     "end_time": "2024-04-29T08:44:54.417550Z",
     "start_time": "2024-04-29T08:44:54.399420Z"
    }
   },
   "source": [
    "pd.DataFrame(d).T.describe()"
   ],
   "outputs": [
    {
     "data": {
      "text/plain": [
       "             rbo    kendall   spearman\n",
       "count  20.000000  20.000000  20.000000\n",
       "mean    0.837500   0.120000   0.135000\n",
       "std     0.133320   0.516669   0.618381\n",
       "min     0.533333  -0.600000  -0.700000\n",
       "25%     0.733333  -0.250000  -0.375000\n",
       "50%     0.858333   0.100000   0.200000\n",
       "75%     0.933333   0.400000   0.600000\n",
       "max     1.000000   1.000000   1.000000"
      ],
      "text/html": [
       "<div>\n",
       "<style scoped>\n",
       "    .dataframe tbody tr th:only-of-type {\n",
       "        vertical-align: middle;\n",
       "    }\n",
       "\n",
       "    .dataframe tbody tr th {\n",
       "        vertical-align: top;\n",
       "    }\n",
       "\n",
       "    .dataframe thead th {\n",
       "        text-align: right;\n",
       "    }\n",
       "</style>\n",
       "<table border=\"1\" class=\"dataframe\">\n",
       "  <thead>\n",
       "    <tr style=\"text-align: right;\">\n",
       "      <th></th>\n",
       "      <th>rbo</th>\n",
       "      <th>kendall</th>\n",
       "      <th>spearman</th>\n",
       "    </tr>\n",
       "  </thead>\n",
       "  <tbody>\n",
       "    <tr>\n",
       "      <th>count</th>\n",
       "      <td>20.000000</td>\n",
       "      <td>20.000000</td>\n",
       "      <td>20.000000</td>\n",
       "    </tr>\n",
       "    <tr>\n",
       "      <th>mean</th>\n",
       "      <td>0.837500</td>\n",
       "      <td>0.120000</td>\n",
       "      <td>0.135000</td>\n",
       "    </tr>\n",
       "    <tr>\n",
       "      <th>std</th>\n",
       "      <td>0.133320</td>\n",
       "      <td>0.516669</td>\n",
       "      <td>0.618381</td>\n",
       "    </tr>\n",
       "    <tr>\n",
       "      <th>min</th>\n",
       "      <td>0.533333</td>\n",
       "      <td>-0.600000</td>\n",
       "      <td>-0.700000</td>\n",
       "    </tr>\n",
       "    <tr>\n",
       "      <th>25%</th>\n",
       "      <td>0.733333</td>\n",
       "      <td>-0.250000</td>\n",
       "      <td>-0.375000</td>\n",
       "    </tr>\n",
       "    <tr>\n",
       "      <th>50%</th>\n",
       "      <td>0.858333</td>\n",
       "      <td>0.100000</td>\n",
       "      <td>0.200000</td>\n",
       "    </tr>\n",
       "    <tr>\n",
       "      <th>75%</th>\n",
       "      <td>0.933333</td>\n",
       "      <td>0.400000</td>\n",
       "      <td>0.600000</td>\n",
       "    </tr>\n",
       "    <tr>\n",
       "      <th>max</th>\n",
       "      <td>1.000000</td>\n",
       "      <td>1.000000</td>\n",
       "      <td>1.000000</td>\n",
       "    </tr>\n",
       "  </tbody>\n",
       "</table>\n",
       "</div>"
      ]
     },
     "execution_count": 9,
     "metadata": {},
     "output_type": "execute_result"
    }
   ],
   "execution_count": 9
  },
  {
   "cell_type": "code",
   "id": "76ee059b568b2bca",
   "metadata": {
    "ExecuteTime": {
     "end_time": "2024-04-29T08:44:54.432898Z",
     "start_time": "2024-04-29T08:44:54.420897Z"
    }
   },
   "source": [
    "rankings"
   ],
   "outputs": [
    {
     "data": {
      "text/plain": [
       "{122997: {'annotated_rankings': [(0, 'chatgpt_22_multimedqa_6'),\n",
       "   (1, 'meta-llama_Llama-2-13b-chat-hf_22_multimedqa_10'),\n",
       "   (2, 'gpt2-xl_22_multimedqa_10'),\n",
       "   (3, '01f617ac-9919-44fe-8fc8-2db9ff72b5e7'),\n",
       "   (4, 'gpt2_22_multimedqa_9')],\n",
       "  'system_rankings': [(-0.0107910428196191,\n",
       "    'meta-llama_Llama-2-13b-chat-hf_22_multimedqa_10'),\n",
       "   (-5.417914390563965, 'gpt2_22_multimedqa_9'),\n",
       "   (-0.0249859765172004, '01f617ac-9919-44fe-8fc8-2db9ff72b5e7'),\n",
       "   (-0.0136555787175893, 'chatgpt_22_multimedqa_6'),\n",
       "   (-0.0948760733008384, 'gpt2-xl_22_multimedqa_10')]},\n",
       " 122998: {'annotated_rankings': [(0, 'chatgpt_35_multimedqa_4'),\n",
       "   (1, 'meta-llama_Llama-2-13b-chat-hf_35_multimedqa_4'),\n",
       "   (2, 'gpt2-xl_35_multimedqa_3'),\n",
       "   (3, '74c382e8-098c-4253-b573-a0b989cbb46c'),\n",
       "   (4, 'gpt2_35_multimedqa_4')],\n",
       "  'system_rankings': [(-3.247481346130371, 'gpt2_35_multimedqa_4'),\n",
       "   (-0.0074790478684008, 'meta-llama_Llama-2-13b-chat-hf_35_multimedqa_4'),\n",
       "   (-0.0083243306726217, 'gpt2-xl_35_multimedqa_3'),\n",
       "   (-0.0037297701928764, 'chatgpt_35_multimedqa_4'),\n",
       "   (-0.0235240049660205, '74c382e8-098c-4253-b573-a0b989cbb46c')]},\n",
       " 122999: {'annotated_rankings': [(0, 'chatgpt_1_multimedqa_3'),\n",
       "   (1, 'meta-llama_Llama-2-13b-chat-hf_1_multimedqa_2'),\n",
       "   (2, 'gpt2-xl_1_multimedqa_8'),\n",
       "   (3, 'gpt2_1_multimedqa_3'),\n",
       "   (4, 'e6ab23e9-9d83-4c75-92e7-445db55795f4')],\n",
       "  'system_rankings': [(-0.002696214010939,\n",
       "    'meta-llama_Llama-2-13b-chat-hf_1_multimedqa_2'),\n",
       "   (-0.1361288875341415, 'gpt2_1_multimedqa_3'),\n",
       "   (-0.0228738375008106, 'gpt2-xl_1_multimedqa_8'),\n",
       "   (-0.0022163845133036, 'chatgpt_1_multimedqa_3'),\n",
       "   (-0.0358217991888523, 'e6ab23e9-9d83-4c75-92e7-445db55795f4')]},\n",
       " 123000: {'annotated_rankings': [(0, 'chatgpt_68_multimedqa_10'),\n",
       "   (1, 'meta-llama_Llama-2-13b-chat-hf_68_multimedqa_4'),\n",
       "   (2, '721cb1ec-4f82-4f67-9a86-e127e4f30ca5'),\n",
       "   (3, 'gpt2-xl_68_multimedqa_6'),\n",
       "   (4, 'gpt2_68_multimedqa_2')],\n",
       "  'system_rankings': [(-0.0176051091402769,\n",
       "    'meta-llama_Llama-2-13b-chat-hf_68_multimedqa_4'),\n",
       "   (-8.799087524414062, 'gpt2_68_multimedqa_2'),\n",
       "   (-0.1441433578729629, '721cb1ec-4f82-4f67-9a86-e127e4f30ca5'),\n",
       "   (-0.0155844679102301, 'chatgpt_68_multimedqa_10'),\n",
       "   (-0.1305878162384033, 'gpt2-xl_68_multimedqa_6')]},\n",
       " 123001: {'annotated_rankings': [(0, 'chatgpt_54_multimedqa_10'),\n",
       "   (1, 'meta-llama_Llama-2-13b-chat-hf_54_multimedqa_7'),\n",
       "   (2, 'b3669cc3-1cd3-4c89-acd4-b019b4150ef7'),\n",
       "   (3, 'gpt2-xl_54_multimedqa_3'),\n",
       "   (4, 'gpt2_54_multimedqa_3')],\n",
       "  'system_rankings': [(-0.0064874994568526,\n",
       "    'meta-llama_Llama-2-13b-chat-hf_54_multimedqa_7'),\n",
       "   (-0.0026830171700567, 'chatgpt_54_multimedqa_10'),\n",
       "   (-0.0163454134017229, 'b3669cc3-1cd3-4c89-acd4-b019b4150ef7'),\n",
       "   (-0.0804744437336921, 'gpt2-xl_54_multimedqa_3'),\n",
       "   (-0.1791312396526336, 'gpt2_54_multimedqa_3')]},\n",
       " 123002: {'annotated_rankings': [(0,\n",
       "    'meta-llama_Llama-2-13b-chat-hf_97_multimedqa_10'),\n",
       "   (1, 'chatgpt_97_multimedqa_9'),\n",
       "   (2, 'gpt2-xl_97_multimedqa_1'),\n",
       "   (3, 'e659c78c-2e9b-405b-af16-1c41c24f63c0'),\n",
       "   (4, 'gpt2_97_multimedqa_7')],\n",
       "  'system_rankings': [(-0.0331029556691646, 'gpt2-xl_97_multimedqa_1'),\n",
       "   (-0.0075234174728393, 'meta-llama_Llama-2-13b-chat-hf_97_multimedqa_10'),\n",
       "   (-3.0379934310913086, 'gpt2_97_multimedqa_7'),\n",
       "   (-0.0071975225582718, 'chatgpt_97_multimedqa_9'),\n",
       "   (-0.0157486498355865, 'e659c78c-2e9b-405b-af16-1c41c24f63c0')]},\n",
       " 123003: {'annotated_rankings': [(0, 'chatgpt_117_multimedqa_7'),\n",
       "   (1, 'meta-llama_Llama-2-13b-chat-hf_117_multimedqa_7'),\n",
       "   (2, '1715aa9e-cd07-4de2-9a4e-b309b616a88d'),\n",
       "   (3, 'gpt2-xl_117_multimedqa_8'),\n",
       "   (4, 'gpt2_117_multimedqa_9')],\n",
       "  'system_rankings': [(-0.0034134476445615, 'gpt2-xl_117_multimedqa_8'),\n",
       "   (-0.0022352966479957, 'chatgpt_117_multimedqa_7'),\n",
       "   (-2.653510332107544, 'gpt2_117_multimedqa_9'),\n",
       "   (-0.0223925206810235, '1715aa9e-cd07-4de2-9a4e-b309b616a88d'),\n",
       "   (-0.0026530565228313, 'meta-llama_Llama-2-13b-chat-hf_117_multimedqa_7')]},\n",
       " 123004: {'annotated_rankings': [(0, 'chatgpt_83_multimedqa_2'),\n",
       "   (1, '6692650c-3877-48db-ac21-fd18f42f0023'),\n",
       "   (2, 'gpt2-xl_83_multimedqa_3'),\n",
       "   (3, 'meta-llama_Llama-2-13b-chat-hf_83_multimedqa_5'),\n",
       "   (4, 'gpt2_83_multimedqa_4')],\n",
       "  'system_rankings': [(-0.002312249969691,\n",
       "    'meta-llama_Llama-2-13b-chat-hf_83_multimedqa_5'),\n",
       "   (-0.0214797146618366, '6692650c-3877-48db-ac21-fd18f42f0023'),\n",
       "   (-0.0021482266020029, 'chatgpt_83_multimedqa_2'),\n",
       "   (-0.1311567574739456, 'gpt2_83_multimedqa_4'),\n",
       "   (-0.0148981120437383, 'gpt2-xl_83_multimedqa_3')]},\n",
       " 123005: {'annotated_rankings': [(0, 'chatgpt_116_multimedqa_3'),\n",
       "   (1, 'meta-llama_Llama-2-13b-chat-hf_116_multimedqa_10'),\n",
       "   (2, 'gpt2-xl_116_multimedqa_8'),\n",
       "   (3, 'd03d9000-019b-4e0d-b6af-6d0e7b029136'),\n",
       "   (4, 'gpt2_116_multimedqa_7')],\n",
       "  'system_rankings': [(-12.584064483642578, 'gpt2_116_multimedqa_7'),\n",
       "   (-0.0050652273930609, 'chatgpt_116_multimedqa_3'),\n",
       "   (-0.0045247077941894, 'meta-llama_Llama-2-13b-chat-hf_116_multimedqa_10'),\n",
       "   (-0.005070564802736, 'd03d9000-019b-4e0d-b6af-6d0e7b029136'),\n",
       "   (-6.085330486297607, 'gpt2-xl_116_multimedqa_8')]},\n",
       " 123006: {'annotated_rankings': [(0, 'chatgpt_102_multimedqa_1'),\n",
       "   (1, 'meta-llama_Llama-2-13b-chat-hf_102_multimedqa_7'),\n",
       "   (2, 'gpt2-xl_102_multimedqa_9'),\n",
       "   (3, 'ac6af937-150b-46a3-967e-039c16aad4ec'),\n",
       "   (4, 'gpt2_102_multimedqa_3')],\n",
       "  'system_rankings': [(-9.458501815795898, 'gpt2_102_multimedqa_3'),\n",
       "   (-0.0068096001632511, 'chatgpt_102_multimedqa_1'),\n",
       "   (-3.5353784561157227, 'gpt2-xl_102_multimedqa_9'),\n",
       "   (-0.0231387540698051, 'meta-llama_Llama-2-13b-chat-hf_102_multimedqa_7'),\n",
       "   (-0.0237198341637849, 'ac6af937-150b-46a3-967e-039c16aad4ec')]},\n",
       " 123007: {'annotated_rankings': [(0, 'chatgpt_96_multimedqa_8'),\n",
       "   (1, 'meta-llama_Llama-2-13b-chat-hf_96_multimedqa_3'),\n",
       "   (2, 'gpt2-xl_96_multimedqa_6'),\n",
       "   (3, 'gpt2_96_multimedqa_6'),\n",
       "   (4, '69200345-7df3-4022-8067-75a95bc97e69')],\n",
       "  'system_rankings': [(-0.333955854177475,\n",
       "    '69200345-7df3-4022-8067-75a95bc97e69'),\n",
       "   (-0.4213560819625854, 'gpt2-xl_96_multimedqa_6'),\n",
       "   (-9.747300148010254, 'gpt2_96_multimedqa_6'),\n",
       "   (-0.0027169003151357, 'meta-llama_Llama-2-13b-chat-hf_96_multimedqa_3'),\n",
       "   (-0.0027321176603436, 'chatgpt_96_multimedqa_8')]},\n",
       " 123008: {'annotated_rankings': [(0, 'chatgpt_55_multimedqa_6'),\n",
       "   (1, 'meta-llama_Llama-2-13b-chat-hf_55_multimedqa_10'),\n",
       "   (2, '91a98d43-d70f-42d7-a496-9400162c43cc'),\n",
       "   (3, 'gpt2-xl_55_multimedqa_9'),\n",
       "   (4, 'gpt2_55_multimedqa_9')],\n",
       "  'system_rankings': [(-0.0021255060564726, 'chatgpt_55_multimedqa_6'),\n",
       "   (-0.1062505543231964, 'gpt2_55_multimedqa_9'),\n",
       "   (-0.0037959204055368, 'gpt2-xl_55_multimedqa_9'),\n",
       "   (-0.0038870032876729, 'meta-llama_Llama-2-13b-chat-hf_55_multimedqa_10'),\n",
       "   (-0.0170965231955051, '91a98d43-d70f-42d7-a496-9400162c43cc')]},\n",
       " 123009: {'annotated_rankings': [(0, 'chatgpt_57_multimedqa_10'),\n",
       "   (1, 'meta-llama_Llama-2-13b-chat-hf_57_multimedqa_3'),\n",
       "   (2, 'acd5f7da-ddcd-4703-96a5-a457ba56d385'),\n",
       "   (3, 'gpt2_57_multimedqa_2'),\n",
       "   (4, 'gpt2-xl_57_multimedqa_5')],\n",
       "  'system_rankings': [(-0.0075635253451764,\n",
       "    'meta-llama_Llama-2-13b-chat-hf_57_multimedqa_3'),\n",
       "   (-0.0473583564162254, 'gpt2-xl_57_multimedqa_5'),\n",
       "   (-0.0507228448987007, 'gpt2_57_multimedqa_2'),\n",
       "   (-0.159821942448616, 'acd5f7da-ddcd-4703-96a5-a457ba56d385'),\n",
       "   (-0.0110331233590841, 'chatgpt_57_multimedqa_10')]},\n",
       " 123010: {'annotated_rankings': [(0, 'chatgpt_114_multimedqa_4'),\n",
       "   (1, '3fe4c158-2a2b-47f6-bb1a-b1818ab82c92'),\n",
       "   (2, 'gpt2-xl_114_multimedqa_3'),\n",
       "   (3, 'meta-llama_Llama-2-13b-chat-hf_114_multimedqa_3'),\n",
       "   (4, 'gpt2_114_multimedqa_10')],\n",
       "  'system_rankings': [(-0.0194778852164745, 'chatgpt_114_multimedqa_4'),\n",
       "   (-0.0097621651366353, 'meta-llama_Llama-2-13b-chat-hf_114_multimedqa_3'),\n",
       "   (-9.859026908874512, 'gpt2_114_multimedqa_10'),\n",
       "   (-0.013659106567502, '3fe4c158-2a2b-47f6-bb1a-b1818ab82c92'),\n",
       "   (-0.009782588109374, 'gpt2-xl_114_multimedqa_3')]},\n",
       " 123011: {'annotated_rankings': [(0, 'chatgpt_94_multimedqa_7'),\n",
       "   (1, 'meta-llama_Llama-2-13b-chat-hf_94_multimedqa_1'),\n",
       "   (2, 'b3669cc3-1cd3-4c89-acd4-b019b4150ef7'),\n",
       "   (3, 'gpt2_94_multimedqa_2'),\n",
       "   (4, 'gpt2-xl_94_multimedqa_8')],\n",
       "  'system_rankings': [(-0.0053071565926074,\n",
       "    'meta-llama_Llama-2-13b-chat-hf_94_multimedqa_1'),\n",
       "   (-0.0592408366501331, 'gpt2-xl_94_multimedqa_8'),\n",
       "   (-0.2193125635385513, 'gpt2_94_multimedqa_2'),\n",
       "   (-0.1018652319908142, 'b3669cc3-1cd3-4c89-acd4-b019b4150ef7'),\n",
       "   (-0.0147196948528289, 'chatgpt_94_multimedqa_7')]},\n",
       " 123012: {'annotated_rankings': [(0, 'chatgpt_101_multimedqa_6'),\n",
       "   (1, 'meta-llama_Llama-2-13b-chat-hf_101_multimedqa_6'),\n",
       "   (2, '6004886d-4f24-415b-b07e-0db28e669cf2'),\n",
       "   (3, 'gpt2-xl_101_multimedqa_6'),\n",
       "   (4, 'gpt2_101_multimedqa_8')],\n",
       "  'system_rankings': [(-0.4149569869041443, 'gpt2_101_multimedqa_8'),\n",
       "   (-0.004259561188519, 'meta-llama_Llama-2-13b-chat-hf_101_multimedqa_6'),\n",
       "   (-1.8219449520111084, '6004886d-4f24-415b-b07e-0db28e669cf2'),\n",
       "   (-0.0697024390101432, 'gpt2-xl_101_multimedqa_6'),\n",
       "   (-0.0034999325871467, 'chatgpt_101_multimedqa_6')]},\n",
       " 123013: {'annotated_rankings': [(0, 'chatgpt_95_multimedqa_7'),\n",
       "   (1, 'meta-llama_Llama-2-13b-chat-hf_95_multimedqa_3'),\n",
       "   (2, '8a8821a6-e08d-44aa-a454-19d299db60c8'),\n",
       "   (3, 'gpt2-xl_95_multimedqa_4'),\n",
       "   (4, 'gpt2_95_multimedqa_10')],\n",
       "  'system_rankings': [(-12.10878562927246, 'gpt2_95_multimedqa_10'),\n",
       "   (-0.0052482211031019, 'meta-llama_Llama-2-13b-chat-hf_95_multimedqa_3'),\n",
       "   (-0.0037782252766191, 'chatgpt_95_multimedqa_7'),\n",
       "   (-0.0674269348382949, 'gpt2-xl_95_multimedqa_4'),\n",
       "   (-0.1790903806686401, '8a8821a6-e08d-44aa-a454-19d299db60c8')]},\n",
       " 123014: {'annotated_rankings': [(0, 'chatgpt_81_multimedqa_6'),\n",
       "   (1, 'meta-llama_Llama-2-13b-chat-hf_81_multimedqa_5'),\n",
       "   (2, '0378a4b6-930f-45d5-b518-ca90d8c2384f'),\n",
       "   (3, 'gpt2-xl_81_multimedqa_10'),\n",
       "   (4, 'gpt2_81_multimedqa_8')],\n",
       "  'system_rankings': [(-0.1806658953428268, 'gpt2_81_multimedqa_8'),\n",
       "   (-0.0026289208326488, 'meta-llama_Llama-2-13b-chat-hf_81_multimedqa_5'),\n",
       "   (-0.0056303488090634, 'gpt2-xl_81_multimedqa_10'),\n",
       "   (-0.0304332487285137, '0378a4b6-930f-45d5-b518-ca90d8c2384f'),\n",
       "   (-0.0018519884906709, 'chatgpt_81_multimedqa_6')]},\n",
       " 123015: {'annotated_rankings': [(0, 'chatgpt_52_multimedqa_6'),\n",
       "   (1, 'meta-llama_Llama-2-13b-chat-hf_52_multimedqa_7'),\n",
       "   (2, 'gpt2-xl_52_multimedqa_9'),\n",
       "   (3, '0c18fe0c-036d-4c44-a8eb-395a6e79d2d2'),\n",
       "   (4, 'gpt2_52_multimedqa_3')],\n",
       "  'system_rankings': [(-0.0037724061403423, 'chatgpt_52_multimedqa_6'),\n",
       "   (-1.3499557971954346, 'gpt2_52_multimedqa_3'),\n",
       "   (-0.0044576562941074, 'meta-llama_Llama-2-13b-chat-hf_52_multimedqa_7'),\n",
       "   (-0.0163652338087558, 'gpt2-xl_52_multimedqa_9'),\n",
       "   (-0.0273482985794544, '0c18fe0c-036d-4c44-a8eb-395a6e79d2d2')]},\n",
       " 123016: {'annotated_rankings': [(0, 'chatgpt_85_multimedqa_5'),\n",
       "   (1, 'meta-llama_Llama-2-13b-chat-hf_85_multimedqa_10'),\n",
       "   (2, '890ee79a-d762-4956-8539-4b9e3d84c3ca'),\n",
       "   (3, 'gpt2-xl_85_multimedqa_3'),\n",
       "   (4, 'gpt2_85_multimedqa_5')],\n",
       "  'system_rankings': [(-0.0092140212655067,\n",
       "    'meta-llama_Llama-2-13b-chat-hf_85_multimedqa_10'),\n",
       "   (-0.0104068713262677, 'chatgpt_85_multimedqa_5'),\n",
       "   (-0.0364964753389358, 'gpt2_85_multimedqa_5'),\n",
       "   (-0.0269314479082822, 'gpt2-xl_85_multimedqa_3'),\n",
       "   (-0.0120319556444883, '890ee79a-d762-4956-8539-4b9e3d84c3ca')]}}"
      ]
     },
     "execution_count": 10,
     "metadata": {},
     "output_type": "execute_result"
    }
   ],
   "execution_count": 10
  },
  {
   "cell_type": "code",
   "id": "2cdaebcab5157e",
   "metadata": {
    "ExecuteTime": {
     "end_time": "2024-04-29T08:44:54.439664Z",
     "start_time": "2024-04-29T08:44:54.435192Z"
    }
   },
   "source": [
    "annotations[0][\"id\"]"
   ],
   "outputs": [
    {
     "data": {
      "text/plain": [
       "122997"
      ]
     },
     "execution_count": 11,
     "metadata": {},
     "output_type": "execute_result"
    }
   ],
   "execution_count": 11
  },
  {
   "cell_type": "code",
   "source": [
    "# flow = dict(zip(range(5), [{}] * 5))\n",
    "\n",
    "def Xrankings(X, nodes_dict, flows_dict):\n",
    "\n",
    "    for i, x in enumerate(X):\n",
    "        X[i] = (x.replace(\"document\", \"Document\")\n",
    "                .replace(\"chatgpt\",\"ChatGPT\")\n",
    "                .replace(\"meta-llama\",\"Llama-2 13B\")\n",
    "                .replace(\"gpt2-xl\",\"GPT-2 XL\")\n",
    "                .replace(\"gpt2\",\"GPT-2\"))\n",
    "\n",
    "    for i in range(len(X)):\n",
    "        if i not in nodes_dict:\n",
    "            nodes_dict[i] = {}\n",
    "        if X[i] in nodes_dict[i]:\n",
    "            nodes_dict[i][X[i]] += 1\n",
    "        else:\n",
    "            nodes_dict[i][X[i]] = 1\n",
    "            \n",
    "        if i < len(X) - 1:\n",
    "            t = (f\"{X[i]}@{i+1}\", f\"{X[i+1]}@{i+2}\")\n",
    "            if t in flows_dict:\n",
    "                flows_dict[t] += 1\n",
    "            else:\n",
    "                flows_dict[t] = 1\n",
    "                \n",
    "    return nodes_dict, flows_dict\n",
    "               \n",
    "               \n",
    "s_nodes_dict, s_flows_dict = {}, {}    \n",
    "a_nodes_dict, a_flows_dict = {}, {}    \n",
    "for k, v in rankings.items():\n",
    "    a = [x[1].split(\"_\")[0] if len(x[1].split(\"_\")[0].split(\"-\")) < 5 else \"document\" for x in\n",
    "         sorted(v[\"annotated_rankings\"], key=lambda x: x[0], reverse=False)]\n",
    "    s = [x[1].split(\"_\")[0] if len(x[1].split(\"_\")[0].split(\"-\")) < 5 else \"document\" for x in\n",
    "         sorted(v[\"system_rankings\"], key=lambda x: x[0], reverse=True)]\n",
    "\n",
    "\n",
    "    s_nodes_dict, s_flows_dict = Xrankings(s, s_nodes_dict, s_flows_dict)\n",
    "    a_nodes_dict, a_flows_dict = Xrankings(a, a_nodes_dict, a_flows_dict)\n",
    "    \n",
    "s_nodes = []\n",
    "a_nodes = []\n",
    "for k, v in s_nodes_dict.items():\n",
    "    level = []\n",
    "    for k2, v2 in v.items():\n",
    "        level.append((f\"{k2}@{k+1}\", v2))\n",
    "    s_nodes.append(level)\n",
    "for k, v in a_nodes_dict.items():\n",
    "    level = []\n",
    "    for k2, v2 in v.items():\n",
    "        level.append((f\"{k2}@{k+1}\", v2))\n",
    "    a_nodes.append(level)\n",
    "    \n",
    "s_flows = []\n",
    "a_flows = []\n",
    "for k, v in s_flows_dict.items():\n",
    "    s_flows.append((k[0], k[1], v))\n",
    "for k, v in a_flows_dict.items():\n",
    "    a_flows.append((k[0], k[1], v))"
   ],
   "metadata": {
    "collapsed": false,
    "ExecuteTime": {
     "end_time": "2024-04-29T08:44:54.453933Z",
     "start_time": "2024-04-29T08:44:54.446725Z"
    }
   },
   "id": "777c08df369186f6",
   "outputs": [],
   "execution_count": 12
  },
  {
   "cell_type": "code",
   "source": [
    "s_nodes"
   ],
   "metadata": {
    "collapsed": false,
    "ExecuteTime": {
     "end_time": "2024-04-29T08:44:54.468635Z",
     "start_time": "2024-04-29T08:44:54.463441Z"
    }
   },
   "id": "8963f405b261ea05",
   "outputs": [
    {
     "data": {
      "text/plain": [
       "[[('Llama-2 13B@1', 7), ('ChatGPT@1', 13)],\n",
       " [('ChatGPT@2', 6), ('Llama-2 13B@2', 12), ('GPT-2 XL@2', 2)],\n",
       " [('Document@3', 8), ('GPT-2 XL@3', 11), ('Llama-2 13B@3', 1)],\n",
       " [('GPT-2 XL@4', 7), ('Document@4', 10), ('GPT-2@4', 2), ('ChatGPT@4', 1)],\n",
       " [('GPT-2@5', 18), ('Document@5', 2)]]"
      ]
     },
     "execution_count": 13,
     "metadata": {},
     "output_type": "execute_result"
    }
   ],
   "execution_count": 13
  },
  {
   "cell_type": "code",
   "source": [
    "# flows = sorted(flows, key=lambda x: x[2], reverse=True)\n",
    "s_flows"
   ],
   "metadata": {
    "collapsed": false,
    "ExecuteTime": {
     "end_time": "2024-04-29T08:44:54.496286Z",
     "start_time": "2024-04-29T08:44:54.489568Z"
    }
   },
   "id": "a9a5743bf91d3a11",
   "outputs": [
    {
     "data": {
      "text/plain": [
       "[('Llama-2 13B@1', 'ChatGPT@2', 6),\n",
       " ('ChatGPT@2', 'Document@3', 4),\n",
       " ('Document@3', 'GPT-2 XL@4', 7),\n",
       " ('GPT-2 XL@4', 'GPT-2@5', 7),\n",
       " ('ChatGPT@1', 'Llama-2 13B@2', 12),\n",
       " ('Llama-2 13B@2', 'GPT-2 XL@3', 9),\n",
       " ('GPT-2 XL@3', 'Document@4', 9),\n",
       " ('Document@4', 'GPT-2@5', 10),\n",
       " ('Llama-2 13B@2', 'Document@3', 3),\n",
       " ('ChatGPT@1', 'GPT-2 XL@2', 1),\n",
       " ('GPT-2 XL@2', 'Llama-2 13B@3', 1),\n",
       " ('Llama-2 13B@3', 'Document@4', 1),\n",
       " ('ChatGPT@2', 'GPT-2 XL@3', 2),\n",
       " ('GPT-2 XL@3', 'GPT-2@4', 2),\n",
       " ('GPT-2@4', 'Document@5', 2),\n",
       " ('Llama-2 13B@1', 'GPT-2 XL@2', 1),\n",
       " ('GPT-2 XL@2', 'Document@3', 1),\n",
       " ('Document@3', 'ChatGPT@4', 1),\n",
       " ('ChatGPT@4', 'GPT-2@5', 1)]"
      ]
     },
     "execution_count": 14,
     "metadata": {},
     "output_type": "execute_result"
    }
   ],
   "execution_count": 14
  },
  {
   "cell_type": "code",
   "source": [
    "from sankeyflow import Sankey\n",
    "import matplotlib\n",
    "\n",
    "# cmap = sns.cubehelix_palette(start=1,rot=len(s_flows+a_flows), light=.5, dark=.55, as_cmap=True)\n",
    "cmap = sns.color_palette(\"jet\",as_cmap=True)\n",
    "rgba = matplotlib.colormaps.get_cmap(cmap)\n",
    "unique_flows = list(set([f\"{f[0].split('@')[0]}{f[1].split('@')[0]}\" for f in s_flows+a_flows]))\n",
    "unique_nodes = set()\n",
    "for f in s_nodes+a_nodes:\n",
    "    for n in f:\n",
    "        unique_nodes.add(n[0].split('@')[0])\n",
    "unique_nodes = list(unique_nodes)\n",
    "def colf(i):\n",
    "    v = rgba(i/len(unique_flows))\n",
    "    return(v[0], v[1], v[2], .5)\n",
    "def coln(i):\n",
    "    v = rgba(i/len(unique_nodes))\n",
    "    return(v[0], v[1], v[2], .5)\n",
    "flow_cols = dict([(f,colf(i)) for i, f in enumerate(unique_flows)])\n",
    "node_cols = dict([(f,coln(i)) for i, f in enumerate(unique_nodes)])"
   ],
   "metadata": {
    "collapsed": false,
    "ExecuteTime": {
     "end_time": "2024-04-29T08:45:36.417880Z",
     "start_time": "2024-04-29T08:45:36.381610Z"
    }
   },
   "id": "a388a08a5791e8f5",
   "outputs": [
    {
     "ename": "ValueError",
     "evalue": "No.",
     "output_type": "error",
     "traceback": [
      "\u001B[0;31m---------------------------------------------------------------------------\u001B[0m",
      "\u001B[0;31mValueError\u001B[0m                                Traceback (most recent call last)",
      "Cell \u001B[0;32mIn[17], line 5\u001B[0m\n\u001B[1;32m      2\u001B[0m \u001B[38;5;28;01mimport\u001B[39;00m \u001B[38;5;21;01mmatplotlib\u001B[39;00m\n\u001B[1;32m      4\u001B[0m \u001B[38;5;66;03m# cmap = sns.cubehelix_palette(start=1,rot=len(s_flows+a_flows), light=.5, dark=.55, as_cmap=True)\u001B[39;00m\n\u001B[0;32m----> 5\u001B[0m cmap \u001B[38;5;241m=\u001B[39m \u001B[43msns\u001B[49m\u001B[38;5;241;43m.\u001B[39;49m\u001B[43mcolor_palette\u001B[49m\u001B[43m(\u001B[49m\u001B[38;5;124;43m\"\u001B[39;49m\u001B[38;5;124;43mjet\u001B[39;49m\u001B[38;5;124;43m\"\u001B[39;49m\u001B[43m,\u001B[49m\u001B[43mas_cmap\u001B[49m\u001B[38;5;241;43m=\u001B[39;49m\u001B[38;5;28;43;01mTrue\u001B[39;49;00m\u001B[43m)\u001B[49m\n\u001B[1;32m      6\u001B[0m rgba \u001B[38;5;241m=\u001B[39m matplotlib\u001B[38;5;241m.\u001B[39mcolormaps\u001B[38;5;241m.\u001B[39mget_cmap(cmap)\n\u001B[1;32m      7\u001B[0m unique_flows \u001B[38;5;241m=\u001B[39m \u001B[38;5;28mlist\u001B[39m(\u001B[38;5;28mset\u001B[39m([\u001B[38;5;124mf\u001B[39m\u001B[38;5;124m\"\u001B[39m\u001B[38;5;132;01m{\u001B[39;00mf[\u001B[38;5;241m0\u001B[39m]\u001B[38;5;241m.\u001B[39msplit(\u001B[38;5;124m'\u001B[39m\u001B[38;5;124m@\u001B[39m\u001B[38;5;124m'\u001B[39m)[\u001B[38;5;241m0\u001B[39m]\u001B[38;5;132;01m}\u001B[39;00m\u001B[38;5;132;01m{\u001B[39;00mf[\u001B[38;5;241m1\u001B[39m]\u001B[38;5;241m.\u001B[39msplit(\u001B[38;5;124m'\u001B[39m\u001B[38;5;124m@\u001B[39m\u001B[38;5;124m'\u001B[39m)[\u001B[38;5;241m0\u001B[39m]\u001B[38;5;132;01m}\u001B[39;00m\u001B[38;5;124m\"\u001B[39m \u001B[38;5;28;01mfor\u001B[39;00m f \u001B[38;5;129;01min\u001B[39;00m s_flows\u001B[38;5;241m+\u001B[39ma_flows]))\n",
      "File \u001B[0;32m~/.local/share/virtualenvs/thesis-probst-jonas-lQW-0x1z/lib/python3.10/site-packages/seaborn/palettes.py:203\u001B[0m, in \u001B[0;36mcolor_palette\u001B[0;34m(palette, n_colors, desat, as_cmap)\u001B[0m\n\u001B[1;32m    199\u001B[0m     palette \u001B[38;5;241m=\u001B[39m husl_palette(n_colors, as_cmap\u001B[38;5;241m=\u001B[39mas_cmap)\n\u001B[1;32m    201\u001B[0m \u001B[38;5;28;01melif\u001B[39;00m palette\u001B[38;5;241m.\u001B[39mlower() \u001B[38;5;241m==\u001B[39m \u001B[38;5;124m\"\u001B[39m\u001B[38;5;124mjet\u001B[39m\u001B[38;5;124m\"\u001B[39m:\n\u001B[1;32m    202\u001B[0m     \u001B[38;5;66;03m# Paternalism\u001B[39;00m\n\u001B[0;32m--> 203\u001B[0m     \u001B[38;5;28;01mraise\u001B[39;00m \u001B[38;5;167;01mValueError\u001B[39;00m(\u001B[38;5;124m\"\u001B[39m\u001B[38;5;124mNo.\u001B[39m\u001B[38;5;124m\"\u001B[39m)\n\u001B[1;32m    205\u001B[0m \u001B[38;5;28;01melif\u001B[39;00m palette\u001B[38;5;241m.\u001B[39mstartswith(\u001B[38;5;124m\"\u001B[39m\u001B[38;5;124mch:\u001B[39m\u001B[38;5;124m\"\u001B[39m):\n\u001B[1;32m    206\u001B[0m     \u001B[38;5;66;03m# Cubehelix palette with params specified in string\u001B[39;00m\n\u001B[1;32m    207\u001B[0m     args, kwargs \u001B[38;5;241m=\u001B[39m _parse_cubehelix_args(palette)\n",
      "\u001B[0;31mValueError\u001B[0m: No."
     ]
    }
   ],
   "execution_count": 17
  },
  {
   "cell_type": "code",
   "source": [
    "# for i, f in enumerate(s_flows):\n",
    "#     s_flows[i] = (f[0], f[1], f[2], {\"color\": flow_cols[f\"{f[0].split('@')[0]}{f[1].split('@')[0]}\"],'flow_color_mode': 'source'})\n",
    "# for i, f in enumerate(a_flows):\n",
    "#     a_flows[i] = (f[0], f[1], f[2], {\"color\": flow_cols[f\"{f[0].split('@')[0]}{f[1].split('@')[0]}\"],'flow_color_mode': 'source'})"
   ],
   "metadata": {
    "collapsed": false,
    "ExecuteTime": {
     "end_time": "2024-04-29T08:44:55.123212Z",
     "start_time": "2024-04-29T08:44:55.123150Z"
    }
   },
   "id": "c1fecd25765a8a07",
   "outputs": [],
   "execution_count": null
  },
  {
   "cell_type": "code",
   "source": [
    "for i, f in enumerate(s_nodes):\n",
    "    for j, n in enumerate(f):\n",
    "        s_nodes[i][j] = (n[0], n[1], {\"color\": node_cols[n[0].split('@')[0]]})\n",
    "for i, f in enumerate(a_nodes):\n",
    "    for j, n in enumerate(f):\n",
    "        a_nodes[i][j] = (n[0], n[1], {\"color\": node_cols[n[0].split('@')[0]]})"
   ],
   "metadata": {
    "collapsed": false,
    "ExecuteTime": {
     "end_time": "2024-04-29T08:44:55.124394Z",
     "start_time": "2024-04-29T08:44:55.124327Z"
    }
   },
   "id": "8b8b410446392dc5",
   "outputs": [],
   "execution_count": null
  },
  {
   "cell_type": "code",
   "source": [
    "plt.figure(figsize=(16, 4), dpi=144)\n",
    "s = Sankey(flows=s_flows, nodes=s_nodes, flow_color_mode='dest')\n",
    "for n in s.nodes:\n",
    "    for ni in n:\n",
    "        ni.label = ni.label.split(\"@\")[0]\n",
    "s.draw()\n",
    "plt.savefig(\"sankey-s.pdf\", bbox_inches='tight')"
   ],
   "metadata": {
    "collapsed": false,
    "ExecuteTime": {
     "end_time": "2024-04-29T08:44:55.126725Z",
     "start_time": "2024-04-29T08:44:55.126170Z"
    }
   },
   "id": "9ef2ff0c0a8636e9",
   "outputs": [],
   "execution_count": null
  },
  {
   "cell_type": "code",
   "source": [
    "plt.figure(figsize=(16, 4), dpi=144)\n",
    "cmap = sns.cubehelix_palette(start=1,rot=-25, light=.75, dark=.25, as_cmap=True)\n",
    "s = Sankey(flows=a_flows, nodes=a_nodes, flow_color_mode='dest')\n",
    "for n in s.nodes:\n",
    "    for ni in n:\n",
    "        ni.label = ni.label.split(\"@\")[0]\n",
    "s.draw()\n",
    "plt.savefig(\"sankey-a.pdf\", bbox_inches='tight')"
   ],
   "metadata": {
    "collapsed": false,
    "ExecuteTime": {
     "end_time": "2024-04-29T08:44:55.127334Z",
     "start_time": "2024-04-29T08:44:55.127276Z"
    }
   },
   "id": "cb39ceb42e2fdc01",
   "outputs": [],
   "execution_count": null
  },
  {
   "cell_type": "code",
   "source": [],
   "metadata": {
    "collapsed": false,
    "ExecuteTime": {
     "end_time": "2024-04-29T08:44:55.130688Z",
     "start_time": "2024-04-29T08:44:55.129400Z"
    }
   },
   "id": "b5eac6086a2493db",
   "outputs": [],
   "execution_count": null
  },
  {
   "cell_type": "code",
   "source": [],
   "metadata": {
    "collapsed": false,
    "ExecuteTime": {
     "end_time": "2024-04-29T08:44:55.133510Z",
     "start_time": "2024-04-29T08:44:55.132510Z"
    }
   },
   "id": "53f188e576e3261f",
   "outputs": [],
   "execution_count": null
  }
 ],
 "metadata": {
  "kernelspec": {
   "display_name": "Python 3 (ipykernel)",
   "language": "python",
   "name": "python3"
  },
  "language_info": {
   "codemirror_mode": {
    "name": "ipython",
    "version": 3
   },
   "file_extension": ".py",
   "mimetype": "text/x-python",
   "name": "python",
   "nbconvert_exporter": "python",
   "pygments_lexer": "ipython3",
   "version": "3.10.10"
  }
 },
 "nbformat": 4,
 "nbformat_minor": 5
}
